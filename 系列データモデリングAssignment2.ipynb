{
  "nbformat": 4,
  "nbformat_minor": 0,
  "metadata": {
    "colab": {
      "name": "系列データモデリングAssignment2.ipynb",
      "provenance": [],
      "authorship_tag": "ABX9TyOMHjS/NbP4ETOinmJpzici",
      "include_colab_link": true
    },
    "kernelspec": {
      "name": "python3",
      "display_name": "Python 3"
    },
    "language_info": {
      "name": "python"
    }
  },
  "cells": [
    {
      "cell_type": "markdown",
      "metadata": {
        "id": "view-in-github",
        "colab_type": "text"
      },
      "source": [
        "<a href=\"https://colab.research.google.com/github/Lehend1010/Sequential-Data-Modeling_2/blob/main/%E7%B3%BB%E5%88%97%E3%83%87%E3%83%BC%E3%82%BF%E3%83%A2%E3%83%87%E3%83%AA%E3%83%B3%E3%82%B0Assignment2.ipynb\" target=\"_parent\"><img src=\"https://colab.research.google.com/assets/colab-badge.svg\" alt=\"Open In Colab\"/></a>"
      ]
    },
    {
      "cell_type": "code",
      "execution_count": 1,
      "metadata": {
        "id": "fcRSycrB2jSq"
      },
      "outputs": [],
      "source": [
        "# Libraries for analysis\n",
        "import pandas as pd\n",
        "import numpy as np\n",
        "import tensorflow as tf\n",
        "import cv2\n",
        "import os\n",
        "import operator"
      ]
    },
    {
      "cell_type": "code",
      "source": [
        "ID = []\n",
        "for i in range(3):\n",
        "  print(\"n\",i,\"=\")\n",
        "  ID.append(int(input()))\n",
        "n0,n1,n2 = ID[0],ID[1],ID[2]"
      ],
      "metadata": {
        "id": "H1_1YCg53Jtz",
        "colab": {
          "base_uri": "https://localhost:8080/"
        },
        "outputId": "26a57a19-eddf-455f-830f-3084f7c7401e"
      },
      "execution_count": 6,
      "outputs": [
        {
          "name": "stdout",
          "output_type": "stream",
          "text": [
            "n 0 =\n",
            "3\n",
            "n 1 =\n",
            "2\n",
            "n 2 =\n",
            "4\n"
          ]
        }
      ]
    },
    {
      "cell_type": "markdown",
      "source": [
        "# 1"
      ],
      "metadata": {
        "id": "tY6HtEbV-BJR"
      }
    },
    {
      "cell_type": "code",
      "source": [
        "Question_number = 1\n",
        "p1_nu, p1_de = [0]*13, [0]*13\n",
        "p1_nu[0], p1_de[0] = 'NULL', 'NULL'\n",
        "p1_nu[1], p1_de[1] = 10+n0, 20\n",
        "p1_nu[2], p1_de[2] = 10-n0, 20\n",
        "p1_nu[3], p1_de[3] = 10+n2, 20\n",
        "p1_nu[4], p1_de[4] = 10-n2, 20\n",
        "p1_nu[5], p1_de[5] = 10+n1, 20\n",
        "p1_nu[6], p1_de[6] = 10-n1, 20\n",
        "p1_nu[7], p1_de[7] = 14-n1, 30\n",
        "p1_nu[8], p1_de[8] = 14-n2, 30\n",
        "p1_nu[9], p1_de[9] = 2+n1+n2, 30\n",
        "p1_nu[10], p1_de[10] = 13-n0, 30\n",
        "p1_nu[11], p1_de[11] = 13-n1, 30\n",
        "p1_nu[12], p1_de[12] = 4+n0+n1, 30\n",
        "\n",
        "for idx in range(1,13):\n",
        "  print('{}-{} = {}'.format(Question_number,idx,p1_nu[idx]/p1_de[idx]))"
      ],
      "metadata": {
        "id": "sgcM3KDZ4HKk",
        "colab": {
          "base_uri": "https://localhost:8080/"
        },
        "outputId": "39c8620d-0857-4b7c-a40a-1e4c83ecc7b9"
      },
      "execution_count": 7,
      "outputs": [
        {
          "output_type": "stream",
          "name": "stdout",
          "text": [
            "1-1 = 0.65\n",
            "1-2 = 0.35\n",
            "1-3 = 0.7\n",
            "1-4 = 0.3\n",
            "1-5 = 0.6\n",
            "1-6 = 0.4\n",
            "1-7 = 0.4\n",
            "1-8 = 0.3333333333333333\n",
            "1-9 = 0.26666666666666666\n",
            "1-10 = 0.3333333333333333\n",
            "1-11 = 0.36666666666666664\n",
            "1-12 = 0.3\n"
          ]
        }
      ]
    },
    {
      "cell_type": "markdown",
      "source": [
        "# 2"
      ],
      "metadata": {
        "id": "IjfWA2w0-FVJ"
      }
    },
    {
      "cell_type": "code",
      "source": [
        "# I don't know."
      ],
      "metadata": {
        "id": "rk5Ac3rx-Ak1"
      },
      "execution_count": null,
      "outputs": []
    },
    {
      "cell_type": "markdown",
      "source": [
        "# 3"
      ],
      "metadata": {
        "id": "pS4RGfJw-PZK"
      }
    },
    {
      "cell_type": "code",
      "source": [
        "Question_number = 3\n",
        "S_in = 1\n",
        "p3_nu, p3_de = [0]*11, [0]*11\n",
        "p3_nu[0], p3_de[0] = 'NULL', 'NULL'\n",
        "p3_nu[1], p3_de[1] = S_in*p1_nu[1]*p1_nu[4], p1_de[1]*p1_de[4]\n",
        "p3_nu[2], p3_de[2] = S_in*p1_nu[2]*p1_nu[6], p1_de[2]*p1_de[6]\n",
        "p3_nu[3], p3_de[3] = (p3_nu[1]*p1_nu[7] + p3_nu[2]*p1_nu[11])*p1_nu[4], p3_de[1]*p1_de[7]*p1_de[4]\n",
        "p3_nu[4], p3_de[4] = (p3_nu[1]*p1_nu[8] + p3_nu[2]*p1_nu[10])*p1_nu[6], p3_de[2]*p1_de[10]*p1_de[6]\n",
        "p3_nu[5], p3_de[5] = (p3_nu[3]*p1_nu[7] + p3_nu[4]*p1_nu[11])*p1_nu[3], p3_de[3]*p1_de[7]*p1_de[3]\n",
        "p3_nu[6], p3_de[6] = (p3_nu[3]*p1_nu[8] + p3_nu[4]*p1_nu[10])*p1_nu[5], p3_de[4]*p1_de[10]*p1_de[5]\n",
        "p3_nu[7], p3_de[7] = p3_nu[5]*p1_nu[9] + p3_nu[6]*p1_nu[12], p3_de[5]*p1_de[9] #S_fin\n",
        "p3_nu[8], p3_de[8] = p3_nu[5]+p3_nu[6], p3_de[5] #𝑃(x1=S,x2=S,x3=H) \n",
        "p3_nu[9], p3_de[9] = p3_nu[3], p3_de[3] #alpha2_M\n",
        "p3_nu[10], p3_de[10] = p3_nu[4], p3_de[4] #alpha2_F\n",
        "\n",
        "for idx in range(1,11):\n",
        "  print('{}-{} = {}'.format(Question_number,idx,p3_nu[idx]/p3_de[idx]))"
      ],
      "metadata": {
        "id": "dHMSKTPp-Qgc",
        "colab": {
          "base_uri": "https://localhost:8080/"
        },
        "outputId": "0456147d-78fe-4617-9cd6-65a3e335741e"
      },
      "execution_count": 8,
      "outputs": [
        {
          "output_type": "stream",
          "name": "stdout",
          "text": [
            "3-1 = 0.195\n",
            "3-2 = 0.14\n",
            "3-3 = 0.0388\n",
            "3-4 = 0.04466666666666667\n",
            "3-5 = 0.022328444444444446\n",
            "3-6 = 0.016693333333333334\n",
            "3-7 = 0.010962251851851852\n",
            "3-8 = 0.03902177777777778\n",
            "3-9 = 0.0388\n",
            "3-10 = 0.04466666666666667\n"
          ]
        }
      ]
    },
    {
      "cell_type": "markdown",
      "source": [
        "# 4"
      ],
      "metadata": {
        "id": "DAcpfGXLwf10"
      }
    },
    {
      "cell_type": "code",
      "source": [
        "Question_number = 4\n",
        "S_fin = 1\n",
        "p4_nu, p4_de = [0]*11, [0]*11\n",
        "p4_nu[0], p4_de[0] = 'NULL', 'NULL'\n",
        "p4_nu[6], p4_de[6] = S_fin*p1_nu[9]*p1_nu[3], p1_de[9]*p1_de[3]\n",
        "p4_nu[7], p4_de[7] = S_fin*p1_nu[12]*p1_nu[5], p1_de[12]*p1_de[5]\n",
        "p4_nu[4], p4_de[4] = (p4_nu[6]*p1_nu[7] + p4_nu[7]*p1_nu[8])*p1_nu[4], p4_de[6]*p1_de[7]*p1_de[4]\n",
        "p4_nu[5], p4_de[5] = (p4_nu[6]*p1_nu[11] + p4_nu[7]*p1_nu[10])*p1_nu[6], p4_de[7]*p1_de[10]*p1_de[6]\n",
        "p4_nu[2], p4_de[2] = (p4_nu[4]*p1_nu[7] + p4_nu[5]*p1_nu[8])*p1_nu[4], p4_de[4]*p1_de[7]*p1_de[4]\n",
        "p4_nu[3], p4_de[3] = (p4_nu[4]*p1_nu[11] + p4_nu[5]*p1_nu[10])*p1_nu[6], p4_de[5]*p1_de[10]*p1_de[6]\n",
        "p4_nu[1], p4_de[1] = p4_nu[2]*p1_nu[1] + p4_nu[3]*p1_nu[2], p4_de[2]*p1_de[1] # S_in\n",
        "p4_nu[8], p4_de[8] = p4_nu[2]+p4_nu[3], p4_de[2] #𝑃(x1=S,x2=S,x3=H) \n",
        "p4_nu[9], p4_de[9] = p4_nu[4], p4_de[4] #beta2_M\n",
        "p4_nu[10], p4_de[10] = p4_nu[5], p4_de[5] #beta2_F\n",
        "\n",
        "for idx in range(1,11):\n",
        "  print('{}-{} = {}'.format(Question_number,idx,p4_nu[idx]/p4_de[idx]))"
      ],
      "metadata": {
        "colab": {
          "base_uri": "https://localhost:8080/"
        },
        "id": "ww9JS9OQwhMm",
        "outputId": "0e8d8be2-b603-4d22-ac17-a8905464ffbe"
      },
      "execution_count": 9,
      "outputs": [
        {
          "output_type": "stream",
          "name": "stdout",
          "text": [
            "4-1 = 0.010962251851851852\n",
            "4-2 = 0.009985777777777777\n",
            "4-3 = 0.012775703703703704\n",
            "4-4 = 0.0404\n",
            "4-5 = 0.05137777777777778\n",
            "4-6 = 0.18666666666666668\n",
            "4-7 = 0.18\n",
            "4-8 = 0.02276148148148148\n",
            "4-9 = 0.0404\n",
            "4-10 = 0.05137777777777778\n"
          ]
        }
      ]
    },
    {
      "cell_type": "markdown",
      "source": [
        "# 5"
      ],
      "metadata": {
        "id": "gVCdhyvc0WKc"
      }
    },
    {
      "cell_type": "code",
      "source": [
        "Question_number = 5\n",
        "p5_nu, p5_de = [0]*4, [0]*4\n",
        "p5_nu[0], p5_de[0] = 'NULL', 'NULL'\n",
        "p5_nu[1], p5_de[1] = p3_nu[9]*p4_nu[9], p3_de[9]*p4_de[9]\n",
        "p5_nu[2], p5_de[2] = p3_nu[10]*p4_nu[10], p3_de[10]*p4_de[10]\n",
        "p5_nu[3], p5_de[3] = p5_nu[1], p5_nu[1]+p5_nu[2]\n",
        "for idx in range(1,4):\n",
        "  print('{}-{} = {}'.format(Question_number,idx,p5_nu[idx]/p5_de[idx]))"
      ],
      "metadata": {
        "colab": {
          "base_uri": "https://localhost:8080/"
        },
        "id": "eeT-a5Fu0Vje",
        "outputId": "4f8240bd-0d1d-42a8-fa36-cbb3223f9baa"
      },
      "execution_count": 11,
      "outputs": [
        {
          "output_type": "stream",
          "name": "stdout",
          "text": [
            "5-1 = 0.00156752\n",
            "5-2 = 0.0022948740740740743\n",
            "5-3 = 0.40584155058693205\n"
          ]
        }
      ]
    }
  ]
}